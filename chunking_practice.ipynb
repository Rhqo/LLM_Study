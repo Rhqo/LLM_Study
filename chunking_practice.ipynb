{
  "nbformat": 4,
  "nbformat_minor": 0,
  "metadata": {
    "colab": {
      "provenance": [],
      "authorship_tag": "ABX9TyM3XcR84Yc+tEO6CI7DM1Gm",
      "include_colab_link": true
    },
    "kernelspec": {
      "name": "python3",
      "display_name": "Python 3"
    },
    "language_info": {
      "name": "python"
    }
  },
  "cells": [
    {
      "cell_type": "markdown",
      "metadata": {
        "id": "view-in-github",
        "colab_type": "text"
      },
      "source": [
        "<a href=\"https://colab.research.google.com/github/Rhqo/LLM_Study/blob/main/chunking_practice.ipynb\" target=\"_parent\"><img src=\"https://colab.research.google.com/assets/colab-badge.svg\" alt=\"Open In Colab\"/></a>"
      ]
    },
    {
      "cell_type": "markdown",
      "source": [
        "### Max token window chunking"
      ],
      "metadata": {
        "id": "Dg2wxVCNClcl"
      }
    },
    {
      "cell_type": "markdown",
      "source": [
        "## Get PDF File"
      ],
      "metadata": {
        "id": "GI1K7Ba0MEj0"
      }
    },
    {
      "cell_type": "code",
      "source": [
        "!pip install PyPDF2"
      ],
      "metadata": {
        "colab": {
          "base_uri": "https://localhost:8080/"
        },
        "id": "-kZ4dr3OCoUs",
        "outputId": "9703b80c-5898-4fd7-ea67-fe2faba48b15"
      },
      "execution_count": 57,
      "outputs": [
        {
          "output_type": "stream",
          "name": "stdout",
          "text": [
            "Requirement already satisfied: PyPDF2 in /usr/local/lib/python3.10/dist-packages (3.0.1)\n"
          ]
        }
      ]
    },
    {
      "cell_type": "code",
      "source": [
        "import PyPDF2\n",
        "from tqdm import tqdm\n",
        "import re\n",
        "from google.colab import drive\n",
        "drive.mount('/content/drive')"
      ],
      "metadata": {
        "colab": {
          "base_uri": "https://localhost:8080/"
        },
        "id": "yRBmS9jdC0N_",
        "outputId": "0e23778d-6669-4325-8bbd-00a59b0b64cb"
      },
      "execution_count": 77,
      "outputs": [
        {
          "output_type": "stream",
          "name": "stdout",
          "text": [
            "Drive already mounted at /content/drive; to attempt to forcibly remount, call drive.mount(\"/content/drive\", force_remount=True).\n"
          ]
        }
      ]
    },
    {
      "cell_type": "code",
      "source": [
        "with open ('/content/drive/MyDrive/Foundations.Of.Algorithms.5th.Edition.pdf', 'rb') as file:\n",
        "  reader = PyPDF2.PdfReader(file, strict=False)\n",
        "\n",
        "  principles_of_ds = ''\n",
        "\n",
        "  for page in tqdm(reader.pages):\n",
        "    text = page.extract_text()\n",
        "    principles_of_ds += '\\n\\n' + text[text.find(']')+2:]\n",
        "\n",
        "principles_of_ds = principles_of_ds.strip()"
      ],
      "metadata": {
        "colab": {
          "base_uri": "https://localhost:8080/"
        },
        "id": "AjDkE2wiDH8U",
        "outputId": "1adf045d-e104-444b-fe5e-0ddfcba612d7"
      },
      "execution_count": 79,
      "outputs": [
        {
          "output_type": "stream",
          "name": "stderr",
          "text": [
            "100%|██████████| 695/695 [02:47<00:00,  4.14it/s]\n"
          ]
        }
      ]
    },
    {
      "cell_type": "markdown",
      "source": [
        "## Overlapping chunks"
      ],
      "metadata": {
        "id": "WZIWmdlLML-i"
      }
    },
    {
      "cell_type": "code",
      "source": [
        "!pip install tiktoken"
      ],
      "metadata": {
        "colab": {
          "base_uri": "https://localhost:8080/"
        },
        "id": "PN0vPxYrQUWv",
        "outputId": "0427220b-45ef-4471-97ca-d6c66fbdf275"
      },
      "execution_count": 55,
      "outputs": [
        {
          "output_type": "stream",
          "name": "stdout",
          "text": [
            "Requirement already satisfied: tiktoken in /usr/local/lib/python3.10/dist-packages (0.7.0)\n",
            "Requirement already satisfied: regex>=2022.1.18 in /usr/local/lib/python3.10/dist-packages (from tiktoken) (2024.5.15)\n",
            "Requirement already satisfied: requests>=2.26.0 in /usr/local/lib/python3.10/dist-packages (from tiktoken) (2.31.0)\n",
            "Requirement already satisfied: charset-normalizer<4,>=2 in /usr/local/lib/python3.10/dist-packages (from requests>=2.26.0->tiktoken) (3.3.2)\n",
            "Requirement already satisfied: idna<4,>=2.5 in /usr/local/lib/python3.10/dist-packages (from requests>=2.26.0->tiktoken) (3.7)\n",
            "Requirement already satisfied: urllib3<3,>=1.21.1 in /usr/local/lib/python3.10/dist-packages (from requests>=2.26.0->tiktoken) (2.0.7)\n",
            "Requirement already satisfied: certifi>=2017.4.17 in /usr/local/lib/python3.10/dist-packages (from requests>=2.26.0->tiktoken) (2024.6.2)\n"
          ]
        }
      ]
    },
    {
      "cell_type": "code",
      "source": [
        "import tiktoken\n",
        "tokenizer = tiktoken.get_encoding(\"cl100k_base\")"
      ],
      "metadata": {
        "id": "Y_DKiaetRDG1"
      },
      "execution_count": 80,
      "outputs": []
    },
    {
      "cell_type": "code",
      "source": [
        "def overlapping_chunks(text, max_tokens=500, overlapping_factor = 5):\n",
        "  sentences = re.split(r'[.?!]', text)\n",
        "  n_tokens = [len(tokenizer.encode(\" \" + sentence)) for sentence in sentences]\n",
        "\n",
        "  chunks, tokens_so_far, chunk = [], 0, []\n",
        "\n",
        "  for sentence, token in zip(sentences, n_tokens):\n",
        "    if tokens_so_far + token > max_tokens:\n",
        "      chunk.append(\". \".join(chunk)+\".\")\n",
        "\n",
        "      if overlapping_factor > 0:\n",
        "        chunk = chunk[-overlapping_factor:]\n",
        "        tokens_so_far = sum([lne(tokenizer.encode(c)) for c in chunk])\n",
        "      else:\n",
        "        chunk = []\n",
        "        tokens_so_far = 0\n",
        "\n",
        "      if token > max_tokens:\n",
        "        continue\n",
        "      chunk.append(sentence)\n",
        "      tokens_so_far += token + 1\n",
        "  return chunks"
      ],
      "metadata": {
        "id": "-YCSFN3HMKnz"
      },
      "execution_count": 81,
      "outputs": []
    },
    {
      "cell_type": "code",
      "source": [
        "split = overlapping_chunks(principles_of_ds, overlapping_factor=0)\n",
        "print([len(tokenizer.encode(t)) for t in split])\n",
        "print(len(split))\n",
        "#avg_length = sum([len(tokenizer.encode(t)) for t in split]) / len(split)"
      ],
      "metadata": {
        "colab": {
          "base_uri": "https://localhost:8080/"
        },
        "id": "J19D0pOMMyEU",
        "outputId": "693c45cc-ccf2-40d9-a166-948284a138b5"
      },
      "execution_count": 84,
      "outputs": [
        {
          "output_type": "stream",
          "name": "stdout",
          "text": [
            "[]\n",
            "0\n"
          ]
        }
      ]
    },
    {
      "cell_type": "code",
      "source": [],
      "metadata": {
        "id": "dlBgxYbNOSU5"
      },
      "execution_count": null,
      "outputs": []
    }
  ]
}